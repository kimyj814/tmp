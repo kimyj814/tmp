{
 "cells": [
  {
   "cell_type": "code",
   "execution_count": 1,
   "metadata": {
    "scrolled": true
   },
   "outputs": [
    {
     "name": "stderr",
     "output_type": "stream",
     "text": [
      "Registered S3 methods overwritten by 'ggplot2':\n",
      "  method         from \n",
      "  [.quosures     rlang\n",
      "  c.quosures     rlang\n",
      "  print.quosures rlang\n",
      "Registered S3 method overwritten by 'rvest':\n",
      "  method            from\n",
      "  read_xml.response xml2\n",
      "-- Attaching packages --------------------------------------- tidyverse 1.2.1 --\n",
      "√ ggplot2 3.1.1       √ purrr   0.3.2  \n",
      "√ tibble  2.1.1       √ dplyr   0.8.0.1\n",
      "√ tidyr   0.8.3       √ stringr 1.4.0  \n",
      "√ readr   1.3.1       √ forcats 0.4.0  \n",
      "-- Conflicts ------------------------------------------ tidyverse_conflicts() --\n",
      "x dplyr::filter() masks stats::filter()\n",
      "x dplyr::lag()    masks stats::lag()\n"
     ]
    }
   ],
   "source": [
    "#spreading\n",
    "library(tidyverse)"
   ]
  },
  {
   "cell_type": "code",
   "execution_count": 2,
   "metadata": {},
   "outputs": [
    {
     "data": {
      "text/html": [
       "<table>\n",
       "<thead><tr><th scope=col>country</th><th scope=col>year</th><th scope=col>cases</th><th scope=col>population</th></tr></thead>\n",
       "<tbody>\n",
       "\t<tr><td>Afghanistan</td><td>1999       </td><td>   745     </td><td>  19987071 </td></tr>\n",
       "\t<tr><td>Afghanistan</td><td>2000       </td><td>  2666     </td><td>  20595360 </td></tr>\n",
       "\t<tr><td>Brazil     </td><td>1999       </td><td> 37737     </td><td> 172006362 </td></tr>\n",
       "\t<tr><td>Brazil     </td><td>2000       </td><td> 80488     </td><td> 174504898 </td></tr>\n",
       "\t<tr><td>China      </td><td>1999       </td><td>212258     </td><td>1272915272 </td></tr>\n",
       "\t<tr><td>China      </td><td>2000       </td><td>213766     </td><td>1280428583 </td></tr>\n",
       "</tbody>\n",
       "</table>\n"
      ],
      "text/latex": [
       "\\begin{tabular}{r|llll}\n",
       " country & year & cases & population\\\\\n",
       "\\hline\n",
       "\t Afghanistan & 1999        &    745      &   19987071 \\\\\n",
       "\t Afghanistan & 2000        &   2666      &   20595360 \\\\\n",
       "\t Brazil      & 1999        &  37737      &  172006362 \\\\\n",
       "\t Brazil      & 2000        &  80488      &  174504898 \\\\\n",
       "\t China       & 1999        & 212258      & 1272915272 \\\\\n",
       "\t China       & 2000        & 213766      & 1280428583 \\\\\n",
       "\\end{tabular}\n"
      ],
      "text/markdown": [
       "\n",
       "| country | year | cases | population |\n",
       "|---|---|---|---|\n",
       "| Afghanistan | 1999        |    745      |   19987071  |\n",
       "| Afghanistan | 2000        |   2666      |   20595360  |\n",
       "| Brazil      | 1999        |  37737      |  172006362  |\n",
       "| Brazil      | 2000        |  80488      |  174504898  |\n",
       "| China       | 1999        | 212258      | 1272915272  |\n",
       "| China       | 2000        | 213766      | 1280428583  |\n",
       "\n"
      ],
      "text/plain": [
       "  country     year cases  population\n",
       "1 Afghanistan 1999    745   19987071\n",
       "2 Afghanistan 2000   2666   20595360\n",
       "3 Brazil      1999  37737  172006362\n",
       "4 Brazil      2000  80488  174504898\n",
       "5 China       1999 212258 1272915272\n",
       "6 China       2000 213766 1280428583"
      ]
     },
     "metadata": {},
     "output_type": "display_data"
    }
   ],
   "source": [
    "table1"
   ]
  },
  {
   "cell_type": "code",
   "execution_count": 3,
   "metadata": {
    "scrolled": true
   },
   "outputs": [
    {
     "data": {
      "text/html": [
       "<table>\n",
       "<thead><tr><th scope=col>country</th><th scope=col>year</th><th scope=col>type</th><th scope=col>count</th></tr></thead>\n",
       "<tbody>\n",
       "\t<tr><td>Afghanistan</td><td>1999       </td><td>cases      </td><td>       745 </td></tr>\n",
       "\t<tr><td>Afghanistan</td><td>1999       </td><td>population </td><td>  19987071 </td></tr>\n",
       "\t<tr><td>Afghanistan</td><td>2000       </td><td>cases      </td><td>      2666 </td></tr>\n",
       "\t<tr><td>Afghanistan</td><td>2000       </td><td>population </td><td>  20595360 </td></tr>\n",
       "\t<tr><td>Brazil     </td><td>1999       </td><td>cases      </td><td>     37737 </td></tr>\n",
       "\t<tr><td>Brazil     </td><td>1999       </td><td>population </td><td> 172006362 </td></tr>\n",
       "\t<tr><td>Brazil     </td><td>2000       </td><td>cases      </td><td>     80488 </td></tr>\n",
       "\t<tr><td>Brazil     </td><td>2000       </td><td>population </td><td> 174504898 </td></tr>\n",
       "\t<tr><td>China      </td><td>1999       </td><td>cases      </td><td>    212258 </td></tr>\n",
       "\t<tr><td>China      </td><td>1999       </td><td>population </td><td>1272915272 </td></tr>\n",
       "\t<tr><td>China      </td><td>2000       </td><td>cases      </td><td>    213766 </td></tr>\n",
       "\t<tr><td>China      </td><td>2000       </td><td>population </td><td>1280428583 </td></tr>\n",
       "</tbody>\n",
       "</table>\n"
      ],
      "text/latex": [
       "\\begin{tabular}{r|llll}\n",
       " country & year & type & count\\\\\n",
       "\\hline\n",
       "\t Afghanistan & 1999        & cases       &        745 \\\\\n",
       "\t Afghanistan & 1999        & population  &   19987071 \\\\\n",
       "\t Afghanistan & 2000        & cases       &       2666 \\\\\n",
       "\t Afghanistan & 2000        & population  &   20595360 \\\\\n",
       "\t Brazil      & 1999        & cases       &      37737 \\\\\n",
       "\t Brazil      & 1999        & population  &  172006362 \\\\\n",
       "\t Brazil      & 2000        & cases       &      80488 \\\\\n",
       "\t Brazil      & 2000        & population  &  174504898 \\\\\n",
       "\t China       & 1999        & cases       &     212258 \\\\\n",
       "\t China       & 1999        & population  & 1272915272 \\\\\n",
       "\t China       & 2000        & cases       &     213766 \\\\\n",
       "\t China       & 2000        & population  & 1280428583 \\\\\n",
       "\\end{tabular}\n"
      ],
      "text/markdown": [
       "\n",
       "| country | year | type | count |\n",
       "|---|---|---|---|\n",
       "| Afghanistan | 1999        | cases       |        745  |\n",
       "| Afghanistan | 1999        | population  |   19987071  |\n",
       "| Afghanistan | 2000        | cases       |       2666  |\n",
       "| Afghanistan | 2000        | population  |   20595360  |\n",
       "| Brazil      | 1999        | cases       |      37737  |\n",
       "| Brazil      | 1999        | population  |  172006362  |\n",
       "| Brazil      | 2000        | cases       |      80488  |\n",
       "| Brazil      | 2000        | population  |  174504898  |\n",
       "| China       | 1999        | cases       |     212258  |\n",
       "| China       | 1999        | population  | 1272915272  |\n",
       "| China       | 2000        | cases       |     213766  |\n",
       "| China       | 2000        | population  | 1280428583  |\n",
       "\n"
      ],
      "text/plain": [
       "   country     year type       count     \n",
       "1  Afghanistan 1999 cases             745\n",
       "2  Afghanistan 1999 population   19987071\n",
       "3  Afghanistan 2000 cases            2666\n",
       "4  Afghanistan 2000 population   20595360\n",
       "5  Brazil      1999 cases           37737\n",
       "6  Brazil      1999 population  172006362\n",
       "7  Brazil      2000 cases           80488\n",
       "8  Brazil      2000 population  174504898\n",
       "9  China       1999 cases          212258\n",
       "10 China       1999 population 1272915272\n",
       "11 China       2000 cases          213766\n",
       "12 China       2000 population 1280428583"
      ]
     },
     "metadata": {},
     "output_type": "display_data"
    }
   ],
   "source": [
    "table2"
   ]
  },
  {
   "cell_type": "code",
   "execution_count": 4,
   "metadata": {},
   "outputs": [
    {
     "data": {
      "text/html": [
       "<table>\n",
       "<thead><tr><th scope=col>country</th><th scope=col>year</th><th scope=col>cases</th><th scope=col>population</th></tr></thead>\n",
       "<tbody>\n",
       "\t<tr><td>Afghanistan</td><td>1999       </td><td>   745     </td><td>  19987071 </td></tr>\n",
       "\t<tr><td>Afghanistan</td><td>2000       </td><td>  2666     </td><td>  20595360 </td></tr>\n",
       "\t<tr><td>Brazil     </td><td>1999       </td><td> 37737     </td><td> 172006362 </td></tr>\n",
       "\t<tr><td>Brazil     </td><td>2000       </td><td> 80488     </td><td> 174504898 </td></tr>\n",
       "\t<tr><td>China      </td><td>1999       </td><td>212258     </td><td>1272915272 </td></tr>\n",
       "\t<tr><td>China      </td><td>2000       </td><td>213766     </td><td>1280428583 </td></tr>\n",
       "</tbody>\n",
       "</table>\n"
      ],
      "text/latex": [
       "\\begin{tabular}{r|llll}\n",
       " country & year & cases & population\\\\\n",
       "\\hline\n",
       "\t Afghanistan & 1999        &    745      &   19987071 \\\\\n",
       "\t Afghanistan & 2000        &   2666      &   20595360 \\\\\n",
       "\t Brazil      & 1999        &  37737      &  172006362 \\\\\n",
       "\t Brazil      & 2000        &  80488      &  174504898 \\\\\n",
       "\t China       & 1999        & 212258      & 1272915272 \\\\\n",
       "\t China       & 2000        & 213766      & 1280428583 \\\\\n",
       "\\end{tabular}\n"
      ],
      "text/markdown": [
       "\n",
       "| country | year | cases | population |\n",
       "|---|---|---|---|\n",
       "| Afghanistan | 1999        |    745      |   19987071  |\n",
       "| Afghanistan | 2000        |   2666      |   20595360  |\n",
       "| Brazil      | 1999        |  37737      |  172006362  |\n",
       "| Brazil      | 2000        |  80488      |  174504898  |\n",
       "| China       | 1999        | 212258      | 1272915272  |\n",
       "| China       | 2000        | 213766      | 1280428583  |\n",
       "\n"
      ],
      "text/plain": [
       "  country     year cases  population\n",
       "1 Afghanistan 1999    745   19987071\n",
       "2 Afghanistan 2000   2666   20595360\n",
       "3 Brazil      1999  37737  172006362\n",
       "4 Brazil      2000  80488  174504898\n",
       "5 China       1999 212258 1272915272\n",
       "6 China       2000 213766 1280428583"
      ]
     },
     "metadata": {},
     "output_type": "display_data"
    }
   ],
   "source": [
    "table2 %>%\n",
    "    spread(key = type, value = count)"
   ]
  },
  {
   "cell_type": "code",
   "execution_count": 5,
   "metadata": {},
   "outputs": [],
   "source": [
    "#missing values\n",
    "stocks <- tibble(\n",
    "  year   = c(2015, 2015, 2015, 2015, 2016, 2016, 2016),\n",
    "  qtr    = c(   1,    2,    3,    4,    2,    3,    4),\n",
    "  return = c(1.88, 0.59, 0.35,   NA, 0.92, 0.17, 2.66)\n",
    ")\n",
    "\n",
    "stocks %>% \n",
    "  spread(year, return)\n",
    "#> # A tibble: 4 x 3\n",
    "#>     qtr `2015` `2016`\n",
    "#>   <dbl>  <dbl>  <dbl>\n",
    "#> 1     1   1.88  NA   \n",
    "#> 2     2   0.59   0.92\n",
    "#> 3     3   0.35   0.17\n",
    "#> 4     4  NA      2.66\n",
    "\n",
    "stocks %>% \n",
    "  spread(year, return) %>% \n",
    "  gather(year, return, `2015`:`2016`, na.rm = TRUE)\n",
    "#> # A tibble: 6 x 3\n",
    "#>     qtr year  return\n",
    "#>   <dbl> <chr>  <dbl>\n",
    "#> 1     1 2015    1.88\n",
    "#> 2     2 2015    0.59\n",
    "#> 3     3 2015    0.35\n",
    "#> 4     2 2016    0.92\n",
    "#> 5     3 2016    0.17\n",
    "#> 6     4 2016    2.66"
   ]
  },
  {
   "cell_type": "code",
   "execution_count": 6,
   "metadata": {},
   "outputs": [
    {
     "ename": "ERROR",
     "evalue": "Error in parse(text = x, srcfile = src): <text>:1:7: 예기치 않은 '/'입니다\n1: https:/\n          ^\n",
     "output_type": "error",
     "traceback": [
      "Error in parse(text = x, srcfile = src): <text>:1:7: 예기치 않은 '/'입니다\n1: https:/\n          ^\nTraceback:\n"
     ]
    }
   ],
   "source": [
    "https://r4ds.had.co.nz/data-visualisation.html#creating-a-ggplot"
   ]
  }
 ],
 "metadata": {
  "kernelspec": {
   "display_name": "R",
   "language": "R",
   "name": "ir"
  },
  "language_info": {
   "codemirror_mode": "r",
   "file_extension": ".r",
   "mimetype": "text/x-r-source",
   "name": "R",
   "pygments_lexer": "r",
   "version": "3.6.1"
  }
 },
 "nbformat": 4,
 "nbformat_minor": 2
}
